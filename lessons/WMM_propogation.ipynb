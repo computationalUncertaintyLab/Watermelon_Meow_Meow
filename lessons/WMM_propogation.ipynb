{
 "cells": [
  {
   "cell_type": "markdown",
   "metadata": {},
   "source": [
    "### Simulating an outbreak on the Watermelon Meow Meow Network. \n",
    "\n",
    "To simulate an outbreak on a network we will need to append disease states (susceptible, infected, removed) to each individual (node) in the network and build a suite of functions that model how the disease states of nodes change when they interact with one another.\n",
    "\n",
    "**Disease states under consideration**\n",
    "\n",
    "We will assume that every node is in one of three disease states: susceptible, infected, removed. \n",
    "\n",
    "**How infections propogate**\n",
    "\n",
    "We will aslso assume that at every time step a susceptible node becomes infected with probability \n",
    "$$\n",
    "\\begin{align}\n",
    "    P(\\textrm{Infection}) = 1 - (1-p)^{ I }\n",
    "\\end{align}\n",
    "$$\n",
    "where $I$ is equal to the number of neighbors that are infected and $p$ is a parameter that defines the probability of transmission of the Watermelon Meow Meow disease.\n",
    "As we discussed in class, if the probability of transmission is equal to $p$ then the probability that a susceptible individual is **not** infected by $I$ individuals is equal to \n",
    "$$\n",
    "\\begin{align}\n",
    "    P(\\textrm{Escape infection}) &= (1-p) \\cdot (1-p) \\cdot (1-p) \\cdots (1-p) \\\\ \n",
    "    &= (1-p)^{I}\n",
    "\\end{align}\n",
    "$$\n",
    "Then, the probability that a susceptible individual does not escape infection equals $1 - P(\\textrm{Escape infection})$ or $1 - (1-p)^{I}$. \n",
    "\n",
    "**The length of infectious period**\n",
    "\n",
    "For this model we can assume that the infectious period of individuals in the system follows a Gamma density with parameters (5,1). That is, if we represent the infectious period of an individual with the random variable $X$ then the infectious period follows\n",
    "$$\n",
    "\\begin{align}\n",
    "    X \\sim \\textrm{Gamma}(5,1)\n",
    "\\end{align}\n",
    "$$\n",
    "**Adding disease states to every node**\n",
    "\n",
    "The disease states S,I,R can be added to each node as follows:"
   ]
  },
  {
   "cell_type": "code",
   "execution_count": 1,
   "metadata": {},
   "outputs": [
    {
     "ename": "NameError",
     "evalue": "name 'g' is not defined",
     "output_type": "error",
     "traceback": [
      "\u001b[0;31m---------------------------------------------------------------------------\u001b[0m",
      "\u001b[0;31mNameError\u001b[0m                                 Traceback (most recent call last)",
      "\u001b[0;32m<ipython-input-1-a55458becaf2>\u001b[0m in \u001b[0;36m<module>\u001b[0;34m\u001b[0m\n\u001b[1;32m      1\u001b[0m \u001b[0;31m#--assign s,i,r states to every node\u001b[0m\u001b[0;34m\u001b[0m\u001b[0;34m\u001b[0m\u001b[0m\n\u001b[1;32m      2\u001b[0m \u001b[0;31m#--make sure everyone is susceptible\u001b[0m\u001b[0;34m\u001b[0m\u001b[0;34m\u001b[0m\u001b[0m\n\u001b[0;32m----> 3\u001b[0;31m \u001b[0;32mfor\u001b[0m \u001b[0mnode\u001b[0m \u001b[0;32min\u001b[0m \u001b[0mg\u001b[0m\u001b[0;34m.\u001b[0m\u001b[0mnodes\u001b[0m\u001b[0;34m(\u001b[0m\u001b[0;34m)\u001b[0m\u001b[0;34m:\u001b[0m\u001b[0;34m\u001b[0m\u001b[0;34m\u001b[0m\u001b[0m\n\u001b[0m\u001b[1;32m      4\u001b[0m     \u001b[0mg\u001b[0m\u001b[0;34m.\u001b[0m\u001b[0mnodes\u001b[0m\u001b[0;34m[\u001b[0m\u001b[0mnode\u001b[0m\u001b[0;34m]\u001b[0m\u001b[0;34m[\u001b[0m\u001b[0;34m\"s\"\u001b[0m\u001b[0;34m]\u001b[0m \u001b[0;34m=\u001b[0m \u001b[0;36m1\u001b[0m\u001b[0;34m\u001b[0m\u001b[0;34m\u001b[0m\u001b[0m\n\u001b[1;32m      5\u001b[0m     \u001b[0mg\u001b[0m\u001b[0;34m.\u001b[0m\u001b[0mnodes\u001b[0m\u001b[0;34m[\u001b[0m\u001b[0mnode\u001b[0m\u001b[0;34m]\u001b[0m\u001b[0;34m[\u001b[0m\u001b[0;34m\"i\"\u001b[0m\u001b[0;34m]\u001b[0m \u001b[0;34m=\u001b[0m \u001b[0;36m0\u001b[0m\u001b[0;34m\u001b[0m\u001b[0;34m\u001b[0m\u001b[0m\n",
      "\u001b[0;31mNameError\u001b[0m: name 'g' is not defined"
     ]
    }
   ],
   "source": [
    "#--assign s,i,r states to every node\n",
    "#--make sure everyone is susceptible\n",
    "for node in g.nodes():\n",
    "    g.nodes[node][\"s\"] = 1\n",
    "    g.nodes[node][\"i\"] = 0\n",
    "    g.nodes[node][\"r\"] = 0"
   ]
  },
  {
   "cell_type": "markdown",
   "metadata": {},
   "source": [
    "where we assume that an individual can be in only one disease state at a time. \n",
    "That is, it is not possible that an individual is both suscpetible and removed. \n",
    "We assigned to each node the variables s, i, r and assigned these variables the values 1,0,0. \n",
    "That is, we consider everyone susceptible. \n",
    "\n",
    "We will also need to assign to every person a random number that follows a $\\textrm{Gamma}(5,1)$ density representing, if they were to become infected, the number of time steps that they would remain in the infectious period. \n",
    "\n",
    "Below is a histogram of the $\\textrm{Gamma}(5,1)$ density.\n",
    "We see that many indiviudals wll have a typical infectious period of between 4 and 6 time steps while some individuals will have a short infectious period of 1 day and others a long infectious period of more than 10 days. "
   ]
  },
  {
   "cell_type": "code",
   "execution_count": null,
   "metadata": {},
   "outputs": [],
   "source": [
    "import numpy as np \n",
    "\n",
    "#--numnber of nodes in network\n",
    "N = len(g)\n",
    "recovery_times = np.random.gamma(5,1,size=N)\n",
    "\n",
    "fig,ax = plt.subplots()\n",
    "ax.hist(recovery_times,20)\n",
    "ax.set_xlabel(\"Recovery time\")\n",
    "ax.set_ylabel(\"Count\")\n",
    "plt.show()"
   ]
  },
  {
   "cell_type": "markdown",
   "metadata": {},
   "source": [
    "Lets assign these infectious period (or recovery) times to each node in an attribute called \"t\" (for time to recovery). \n",
    "When a node is infected this attribute \"t\" will be decreased by one at every time step.\n",
    "\n",
    "We can produce the list of all nodes with the ``nodes`` method in ``networkx``.\n",
    "We then have a list of $N$ recovery times and a list of the $N$ nodes. \n",
    "We want to assign the first recovery time to the first node in the list, the second recovery time to the second node in the list and so on. \n",
    "\n",
    "To glue together two (or more) lists use the ``zip`` command.\n",
    "Here is a small example of how the zip command works "
   ]
  },
  {
   "cell_type": "code",
   "execution_count": null,
   "metadata": {},
   "outputs": [],
   "source": [
    "Xs = ['1','2','3']\n",
    "Ys = ['4','5','6']\n",
    "\n",
    "for x,y in zip(Xs,Ys):\n",
    "    print(x + \"-\" + y)"
   ]
  },
  {
   "cell_type": "markdown",
   "metadata": {},
   "source": [
    "The list `Xs` is aligned with the list `Ys`. \n",
    "At the **ith** iteration of the loop the item `Xs[i]` is stored in `x` and the item `Ys[i]` is stored in `y`.\n",
    "\n",
    "\n",
    "We can zip together our recovery times and the nodes in our network. \n",
    "At each iteration we will assign a recovery time to a node. "
   ]
  },
  {
   "cell_type": "code",
   "execution_count": null,
   "metadata": {},
   "outputs": [],
   "source": [
    "##--assigning infectious periods to everyone from the list recovery_times\n",
    "for r,node in zip(recovery_times, g.nodes()):\n",
    "    g.nodes[node][\"t\"] = r"
   ]
  },
  {
   "cell_type": "markdown",
   "metadata": {},
   "source": [
    "### One infection \n",
    "\n",
    "Before you are asked as homework to build a suite of functions to simualte an outbreak, i will introduce a function to select a single node at random and infect that node. \n",
    "The states of that node will change from (S=1, I=0, R=0) to (S=0, I=1, R=0). "
   ]
  },
  {
   "cell_type": "code",
   "execution_count": null,
   "metadata": {},
   "outputs": [],
   "source": [
    "#--add an infection \n",
    "def infect_random_node(g):\n",
    "    nodes = list(g.nodes())            #--a list of all the nodes in the network\n",
    "    patient0 = np.random.choice(nodes) #--choose a node at random\n",
    "        \n",
    "    #--change that node's disease state from susceptible to infected. \n",
    "    g.nodes[patient0][\"s\"]=0\n",
    "    g.nodes[patient0][\"i\"]=1\n",
    "    g.nodes[patient0][\"r\"]=0"
   ]
  },
  {
   "cell_type": "markdown",
   "metadata": {},
   "source": [
    "### Homework\n",
    "\n",
    "We need **nine** functions to help us simulate an outbreak.\n",
    "Each function is described in words below and you are asked to fill in the code to produce a desired output. \n",
    "With each function i have test code so that you can check if you are performing each function correctly. "
   ]
  },
  {
   "cell_type": "markdown",
   "metadata": {},
   "source": [
    "### Function one: From Suscpeible to infected\n",
    "We need a function titled `from_s_to_i` that takes as input a `node` and a `network` and updates this node with the disease state infected. \n",
    "This means that we change the state S to 0, the state I to 1, and the state R to 0. \n",
    "Your function will need to select a node `n` from a graph `g`, using the `g.nodes` method and modify the \"s\", \"i\", and the \"r\" attributes. \n",
    "*Hint*: Take a look at the code above where i assigned all the nodes to the susceptible state. "
   ]
  },
  {
   "cell_type": "code",
   "execution_count": null,
   "metadata": {},
   "outputs": [],
   "source": [
    "#--this is the answer\n",
    "def from_s_to_i(n,g):\n",
    "    pass\n",
    "\n",
    "#--this is for students\n",
    "def test_function_one( fun ):\n",
    "    import networkx as nx\n",
    "    g = nx.gnm_random_graph(10, 5)\n",
    "    \n",
    "    for node in g.nodes():\n",
    "        g.nodes[node][\"s\"] = 1\n",
    "        g.nodes[node][\"i\"] = 0\n",
    "        g.nodes[node][\"r\"] = 0\n",
    "\n",
    "    #--change state \n",
    "    fun(1,g)\n",
    "    \n",
    "    node = g.nodes[1]\n",
    "    if node[\"s\"] == 0 and node[\"i\"] == 1 and node[\"r\"] == 0:\n",
    "        print(\"Pass\")\n",
    "    else:\n",
    "        print(\"Did not pass, keep trying!\")\n",
    "        \n",
    "#--example test\n",
    "test_function_one( from_s_to_i )"
   ]
  },
  {
   "cell_type": "markdown",
   "metadata": {},
   "source": [
    "### Function two: From Infected to Removed\n",
    "We need a function titled `from_i_to_r` that takes as input a `node` and a `network` and updates this node with the disease state removed. This means that we change the state S to 0, the state I to 0, and the state R to 1.\n",
    "This code should look extremely similar to the code you used to prouce `from_s_to_i` except that we are changing the disease state of a node to removed. *Hint* Start by copy and pasting your `from_s_to_i` code. "
   ]
  },
  {
   "cell_type": "code",
   "execution_count": null,
   "metadata": {},
   "outputs": [],
   "source": [
    "#--this is the answer\n",
    "def from_i_to_r(n,g):\n",
    "    pass\n",
    "\n",
    "#--this is for students\n",
    "def test_function_two( fun ):\n",
    "    import networkx as nx\n",
    "    g = nx.gnm_random_graph(10, 5)\n",
    "    \n",
    "    for node in g.nodes():\n",
    "        g.nodes[node][\"s\"] = 1\n",
    "        g.nodes[node][\"i\"] = 0\n",
    "        g.nodes[node][\"r\"] = 0\n",
    "\n",
    "    #--change state \n",
    "    fun(5,g)\n",
    "    \n",
    "    node = g.nodes[5]\n",
    "    if node[\"s\"] == 0 and node[\"i\"] == 0 and node[\"r\"] == 1:\n",
    "        print(\"Pass\")\n",
    "    else:\n",
    "        print(\"Did not pass, keep trying!\")\n",
    "        \n",
    "test_function_two( from_i_to_r)"
   ]
  },
  {
   "cell_type": "markdown",
   "metadata": {},
   "source": [
    "### Function three: Check if a node is in the infected state\n",
    "We need a function titled `is_infected` that takes as input a `node` and a `network` and returns the value one if the node is in the infected state and the value zero otherwise. \n",
    "Remeber that you can access a dictionary of the attributes of a node using the `g.nodes` method. \n",
    "\n",
    "For example, if i access the node titled \"profm\" then a dictionary of attributes will be returned."
   ]
  },
  {
   "cell_type": "code",
   "execution_count": null,
   "metadata": {},
   "outputs": [],
   "source": [
    "#--accessing a dictionary of attirbutes that are attached to the node \"thm220\"\n",
    "g.nodes[942]"
   ]
  },
  {
   "cell_type": "code",
   "execution_count": null,
   "metadata": {},
   "outputs": [],
   "source": [
    "#--this is the correct answer\n",
    "def is_infected(n,g):\n",
    "    pass\n",
    "\n",
    "#--this is for students\n",
    "def test_function_three( fun ):\n",
    "    import networkx as nx\n",
    "    g = nx.gnm_random_graph(10, 5)\n",
    "    \n",
    "    for node in g.nodes():\n",
    "        g.nodes[node][\"s\"] = 1\n",
    "        g.nodes[node][\"i\"] = 0\n",
    "        g.nodes[node][\"r\"] = 0\n",
    "\n",
    "    #--change state \n",
    "    from_s_to_i(5,g)\n",
    "    \n",
    "    if is_infected(5,g)==1 and is_infected(2,g)==0:\n",
    "        print(\"Pass\")\n",
    "    else:\n",
    "        print(\"Did not pass, keep trying!\")\n",
    "\n",
    "test_function_three( is_infected )"
   ]
  },
  {
   "cell_type": "markdown",
   "metadata": {},
   "source": [
    "### Function four: Check if a node is in the removed state\n",
    "We need a function titled `is_removed` that takes as input a `node` and a `network` and returns the value one if the node is in the removed state and the value zero otherwise.\n",
    "This will look very close to the function above `is_infected`. *Hint* Start by copy and pasting your code above for `is_infected`. "
   ]
  },
  {
   "cell_type": "code",
   "execution_count": null,
   "metadata": {},
   "outputs": [],
   "source": [
    "#--this is the correct answer\n",
    "def is_removed(n,g):\n",
    "    pass\n",
    "\n",
    "#--this is for students\n",
    "def test_function_four( fun ):\n",
    "    import networkx as nx\n",
    "    g = nx.gnm_random_graph(10, 5)\n",
    "    \n",
    "    for node in g.nodes():\n",
    "        g.nodes[node][\"s\"] = 1\n",
    "        g.nodes[node][\"i\"] = 0\n",
    "        g.nodes[node][\"r\"] = 0\n",
    "\n",
    "    #--change state \n",
    "    from_s_to_i(5,g)\n",
    "    from_i_to_r(3,g)\n",
    "    \n",
    "    if is_removed(3,g)==1 and is_removed(5,g)==0:\n",
    "        print(\"Pass\")\n",
    "    else:\n",
    "        print(\"Did not pass, keep trying!\")\n",
    "\n",
    "test_function_four( is_removed )"
   ]
  },
  {
   "cell_type": "markdown",
   "metadata": {},
   "source": [
    "### Function five: Count the number of infected nodes\n",
    "We need a function titled `ninfected` that takes as input a `node` and a `network` and returns the number of neighbors of `node` that are in the infected state. You will need the networkx method `neighbors` [https://networkx.org/documentation/stable/reference/classes/generated/networkx.Graph.neighbors.html](https://networkx.org/documentation/stable/reference/classes/generated/networkx.Graph.neighbors.html) and you should use the function you wrote above called `is_infected` to count all the nodes that are infected. \n",
    "\n",
    "The `neigbors` method takes as input a node and returns an iterator of all the neighbors of that node.\n",
    "Iterators can be a bit tricky to work with and so we can change change an interator to a list with the `list` function. \n",
    "For example, suppose i wish to return the list of all nodes that are neighbors of the node \"profm\". \n",
    "Then i can write "
   ]
  },
  {
   "cell_type": "code",
   "execution_count": null,
   "metadata": {},
   "outputs": [],
   "source": [
    "list(g.neighbors(942))"
   ]
  },
  {
   "cell_type": "code",
   "execution_count": null,
   "metadata": {},
   "outputs": [],
   "source": [
    "#--this is the correct answer\n",
    "def ninfected(n,g):\n",
    "    pass\n",
    "\n",
    "\n",
    "#--this is for students to test\n",
    "def test_function_five( fun ):\n",
    "    import networkx as nx\n",
    "    g = nx.gnm_random_graph(10, 5)\n",
    "    \n",
    "    for node in g.nodes():\n",
    "        g.nodes[node][\"s\"] = 1\n",
    "        g.nodes[node][\"i\"] = 0\n",
    "        g.nodes[node][\"r\"] = 0\n",
    "\n",
    "    #--choose node 5 and add neighbors until three\n",
    "    num_neighbors = len(list(g.neighbors(5)))\n",
    "    while num_neighbors <= 3:\n",
    "            non_neighbors = set(np.arange(10)) - set(list(g.neighbors(5)))\n",
    "            node_to_add = np.random.choice(list(non_neighbors))\n",
    "            g.add_edge(5,node_to_add)\n",
    "            \n",
    "            num_neighbors = len(list(g.neighbors(5)))\n",
    "    \n",
    "    #--change state \n",
    "    random_neighbors = np.random.choice(list(g.neighbors(5)), 3, replace=False) \n",
    "    for node in random_neighbors:\n",
    "        from_s_to_i(node,g)\n",
    "    \n",
    "    result = ninfected(5,g)\n",
    "    \n",
    "    if not isinstance(result, int):\n",
    "        print(\"Make sure to return an integer\")\n",
    "    else:\n",
    "        if ninfected(5,g)==3:\n",
    "            print(\"Pass\")\n",
    "        else:\n",
    "            print(\"Did not pass, keep trying!\")\n",
    "test_function_five(ninfected)"
   ]
  },
  {
   "cell_type": "markdown",
   "metadata": {},
   "source": [
    "### Function six: Probability of infection\n",
    "We need a function titled `prob_of_infection` that takes as input a `node`, `network`, and a probability of transmission `p` and returns the probability that at least one infected neighbor will infect `node`. \n",
    "You should use the function `ninfected` to compute the number of infected neighbors of `node`."
   ]
  },
  {
   "cell_type": "code",
   "execution_count": null,
   "metadata": {},
   "outputs": [],
   "source": [
    "#--this is the correct answer\n",
    "def prob_of_infection(n,g,p):\n",
    "    pass\n",
    "\n",
    "\n",
    "#--this is for students to test\n",
    "def test_function_six( fun ):\n",
    "    import networkx as nx\n",
    "    g = nx.gnm_random_graph(10, 5)\n",
    "    \n",
    "    for node in g.nodes():\n",
    "        g.nodes[node][\"s\"] = 1\n",
    "        g.nodes[node][\"i\"] = 0\n",
    "        g.nodes[node][\"r\"] = 0\n",
    "\n",
    "    #--add some certain edges\n",
    "    g.add_edge(1,5)\n",
    "    g.add_edge(2,5)\n",
    "    g.add_edge(9,5)\n",
    "    \n",
    "    #--infect\n",
    "    from_s_to_i(1,g)\n",
    "    from_s_to_i(9,g)\n",
    "    \n",
    "    #--test\n",
    "    p=0.3\n",
    "    \n",
    "    correct_ans = 1 - (1-p)**2\n",
    "    proposed_ans = prob_of_infection(5,g,p)\n",
    "    \n",
    "    if correct_ans == proposed_ans:\n",
    "        print(\"Pass\")\n",
    "    else:\n",
    "        print(\"Did not pass, keep trying!\")\n",
    "test_function_six(prob_of_infection)"
   ]
  },
  {
   "cell_type": "markdown",
   "metadata": {},
   "source": [
    "### Function seven: List all the infected nodes\n",
    "We will need a function titled `infected_nodes` that takes as input a network and returns a list of all the nodes that are in the infected state. You can create an empty list titled `infected_nodes`, loop through all nodes $(n)$ in a network `g` using the `nodes()` method, determine if the node $n$ is infected and append it to the list `infected_nodes`. If a node is not infected than we skip that node and move to the next node in the loop.\n",
    "\n",
    "```\n",
    "for node in g.nodes():\n",
    "    <Code to determine if a node is infected and add to a list titled infected_nodes>\n",
    "```"
   ]
  },
  {
   "cell_type": "code",
   "execution_count": null,
   "metadata": {},
   "outputs": [],
   "source": [
    "#--this is the correct answer\n",
    "def infected_nodes(g):\n",
    "    pass\n",
    "\n",
    "\n",
    "#--this is for students to test\n",
    "def test_function_seven( fun ):\n",
    "    import networkx as nx\n",
    "    g = nx.gnm_random_graph(10, 5)\n",
    "    \n",
    "    for node in g.nodes():\n",
    "        g.nodes[node][\"s\"] = 1\n",
    "        g.nodes[node][\"i\"] = 0\n",
    "        g.nodes[node][\"r\"] = 0\n",
    "    \n",
    "    #--infect\n",
    "    from_s_to_i(1,g)\n",
    "    from_s_to_i(9,g)\n",
    "    from_s_to_i(3,g)\n",
    "    from_s_to_i(2,g)\n",
    "\n",
    "    ans = fun(g)\n",
    "    \n",
    "    if not isinstance(ans, list):\n",
    "        print(\"Must be a list\")\n",
    "    else:\n",
    "        if set(ans) == set([1,9,3,2]):\n",
    "            print(\"Pass\")\n",
    "        else:\n",
    "            print(\"Did not pass, keep trying!\")\n",
    "test_function_seven(infected_nodes)"
   ]
  },
  {
   "cell_type": "markdown",
   "metadata": {},
   "source": [
    "### Function eight: Decrement recovery time\n",
    "We will need a function titled `decrement_time` that takes as input a `node` and a `network` and decreases the `t` attribute that is attached to `node` by one. \n",
    "This function does not need to return anything, it needs to decrement an attribute of our network. "
   ]
  },
  {
   "cell_type": "code",
   "execution_count": null,
   "metadata": {},
   "outputs": [],
   "source": [
    "#--this is the correct answer\n",
    "def decrement_time(n,g):\n",
    "    pass\n",
    "\n",
    "#--this is for students to test\n",
    "def test_function_eight( fun ):\n",
    "    import networkx as nx\n",
    "    g = nx.gnm_random_graph(10, 5)\n",
    "    \n",
    "    for node in g.nodes():\n",
    "        g.nodes[node][\"s\"] = 1\n",
    "        g.nodes[node][\"i\"] = 0\n",
    "        g.nodes[node][\"r\"] = 0\n",
    "        g.nodes[node][\"t\"] = 0\n",
    "    \n",
    "    g.nodes[5][\"t\"] = 1\n",
    "        \n",
    "    #--run function\n",
    "    decrement_time(5,g)\n",
    "    \n",
    "    ans = g.nodes[5][\"t\"]\n",
    "    correct_ans = 0\n",
    "       \n",
    "    if ans == correct_ans:\n",
    "         print(\"Pass\")\n",
    "    else:\n",
    "         print(\"Did not pass, keep trying!\")\n",
    "            \n",
    "test_function_eight( decrement_time )"
   ]
  },
  {
   "cell_type": "markdown",
   "metadata": {},
   "source": [
    "### Function nine: Is time up\n",
    "We will need a function titled `is_time_up` that takes as input a `node` and a `network` and returns the value one if the `t` attribute is less than or equal to zero and returns the value zero otherwise.\n",
    "This function will determine if the infectious period for a node is over. "
   ]
  },
  {
   "cell_type": "code",
   "execution_count": null,
   "metadata": {},
   "outputs": [],
   "source": [
    "#--this is the correct answer\n",
    "def is_time_up(n,g):\n",
    "    pass\n",
    "\n",
    "\n",
    "#--this is for students to test\n",
    "def test_function_nine( fun ):\n",
    "    import networkx as nx\n",
    "    g = nx.gnm_random_graph(10, 5)\n",
    "    \n",
    "    for node in g.nodes():\n",
    "        g.nodes[node][\"s\"] = 1\n",
    "        g.nodes[node][\"i\"] = 0\n",
    "        g.nodes[node][\"r\"] = 0\n",
    "        g.nodes[node][\"t\"] = 0\n",
    "    \n",
    "    g.nodes[5][\"t\"] = 1\n",
    "        \n",
    "    #--run function\n",
    "    decrement_time(5,g)\n",
    "    \n",
    "    ans = is_time_up(5,g)\n",
    "    correct_ans = 1\n",
    "       \n",
    "    if ans == correct_ans:\n",
    "         print(\"Pass\")\n",
    "    else:\n",
    "         print(\"Did not pass, keep trying!\")\n",
    "            \n",
    "test_function_nine( is_time_up )"
   ]
  },
  {
   "cell_type": "markdown",
   "metadata": {},
   "source": [
    "### Putting all of these functions to use to simulate an outbreak. \n",
    "\n",
    "Given a parameter `p` that describes the probability of an effective contact, we will simulate an outbreak on a network over `T` time steps. \n",
    "Here are all the steps that use your nine function to generate an outbreak."
   ]
  },
  {
   "cell_type": "code",
   "execution_count": null,
   "metadata": {},
   "outputs": [],
   "source": [
    "#--set our parameters\n",
    "T = 20\n",
    "p = 0.90\n",
    "\n",
    "#--infect one node at random. \n",
    "infect_random_node(g)\n",
    "\n",
    "#--create an empty list that will store the number of prevalent infections over time \n",
    "infections_over_time = []\n",
    "\n",
    "for time in range(T):\n",
    "    break #--<<remove this when you start coding\n",
    "\n",
    "    #--Create a var called previous_infections that is a list of all infected nodes\n",
    "    previous_infections     = infected_nodes(g)\n",
    "    \n",
    "    #--Create a var called num_previous_infections that counts the number of infected nodes\n",
    "    num_previous_infections = len(previous_infections)\n",
    "\n",
    "    #--Append num_previous_infections to the list infections_over_time\n",
    "    infections_over_time.append(num_previous_infections)\n",
    "\n",
    "    #--Section: propogate infections\n",
    "    for node in g.nodes():\n",
    "        #--Compute the probability that node is infected (use your prob_of_infection function)\n",
    "        #--MAKE SURE TO CALL THIS PROBABILITY \"prob\"\n",
    "        prob = prob_of_infection(node,g,p)\n",
    "\n",
    "        #--If the node is in the removed state, skip this node by using the \"continue\" comand\n",
    "        #--Note: you will want to use your is_removed function. \n",
    "        if is_removed(node,g):\n",
    "            continue\n",
    "        \n",
    "        #--This piece of code infects a node with probability prob\n",
    "        if np.random.random() < prob:\n",
    "            from_s_to_i(node,g)\n",
    "            \n",
    "    #--Section: Recovery\n",
    "    #--Loop through all infected individuals \n",
    "    for infected in previous_infections:\n",
    "        #--include code that changes the disease state of the node infected to the recovered state\n",
    "        #--you will need your function titled from_i_to_r\n",
    "        from_i_to_r(infected,g)"
   ]
  },
  {
   "cell_type": "markdown",
   "metadata": {},
   "source": [
    "Please plot the list `infections_over_time`.\n",
    "Add an xlabel using either `plt.xlabel` or `ax.set_xlabel` with the text \"Time\" and a ylabel with the text \"Number of infections\". "
   ]
  },
  {
   "cell_type": "code",
   "execution_count": null,
   "metadata": {},
   "outputs": [],
   "source": [
    "#--student will complete this plot "
   ]
  },
  {
   "cell_type": "markdown",
   "metadata": {},
   "source": [
    "### FINAL  STEP\n",
    "\n",
    "Please wrap all of the code above into a function titled `simulate_outbreak`.\n",
    "This function will take two arguments: `T` and `p` and returns `infections_over_time`."
   ]
  },
  {
   "cell_type": "code",
   "execution_count": null,
   "metadata": {},
   "outputs": [],
   "source": [
    "def simulate_outbreak(T,p=0.1):\n",
    "    #--make sure everyone is susceptible\n",
    "    for node in g.nodes():\n",
    "        g.nodes[node][\"s\"] = 1\n",
    "        g.nodes[node][\"i\"] = 0\n",
    "        g.nodes[node][\"r\"] = 0\n",
    "\n",
    "    ##--assigning infectious periods to everyone if they get infected\n",
    "    recovery_times = np.random.gamma(5,1, size=len(g))\n",
    "\n",
    "    for r,node in zip(recovery_times, g.nodes()):\n",
    "        g.nodes[node][\"t\"] = r\n",
    "\n",
    "    #--add an infection \n",
    "    patient0 = np.random.choice(list(g.nodes()))\n",
    "\n",
    "    g.nodes[patient0][\"s\"]=0\n",
    "    g.nodes[patient0][\"i\"]=1\n",
    "    g.nodes[patient0][\"r\"]=0\n",
    "\n",
    "    infections_over_time = []\n",
    "\n",
    "    for time in range(T):\n",
    "        previous_infections     = infected_nodes(g)\n",
    "        \n",
    "        num_previous_infections = len(previous_infections)\n",
    "\n",
    "        infections_over_time.append(num_previous_infections)\n",
    "\n",
    "        #--propogate infections\n",
    "        for node in g.nodes():\n",
    "            prob = prob_of_infection(node,g,p)\n",
    "\n",
    "            #--skip this node if it is removed\n",
    "            if is_removed(node,g):\n",
    "                continue\n",
    "            \n",
    "            #--infection!\n",
    "            if np.random.random() < prob:\n",
    "                from_s_to_i(node,g)\n",
    "\n",
    "        #--remove all previous infections \n",
    "        for infected in previous_infections:\n",
    "            decrement_time(infected,g)\n",
    "\n",
    "            if is_time_up(infected,g):\n",
    "                from_i_to_r(infected,g)\n",
    "    return infections_over_time"
   ]
  },
  {
   "cell_type": "markdown",
   "metadata": {},
   "source": [
    "The codebelow takes your `simulate outbreak` function, runs this 1000 times, and plots the number of prevalent cases for each iteration. "
   ]
  },
  {
   "cell_type": "code",
   "execution_count": null,
   "metadata": {},
   "outputs": [],
   "source": [
    "import sys\n",
    "infections = []\n",
    "for i in range(1000):\n",
    "    break #<--remove this when you are ready\n",
    "    \n",
    "    sys.stdout.write(\"\\r Simulating {:03d}\".format(i))\n",
    "    infections_over_time = simulate_outbreak(T=50,p=0.1)\n",
    "    plt.plot(infections_over_time, color= \"blue\", alpha=0.1)\n",
    "\n",
    "plt.ylabel(\"Incident infections\")\n",
    "plt.xlabel(\"time\")\n",
    "plt.show()"
   ]
  },
  {
   "cell_type": "markdown",
   "metadata": {},
   "source": [
    "What factors are responsible for the collections of different trajectories of the number of infections over time? \n",
    "In what ways does a model like this relate to a system of differential equations (like the SIR) and in what ways does this model differ from an SIR-like model? \n"
   ]
  }
 ],
 "metadata": {
  "kernelspec": {
   "display_name": "Python 3 (ipykernel)",
   "language": "python",
   "name": "python3"
  },
  "language_info": {
   "codemirror_mode": {
    "name": "ipython",
    "version": 3
   },
   "file_extension": ".py",
   "mimetype": "text/x-python",
   "name": "python",
   "nbconvert_exporter": "python",
   "pygments_lexer": "ipython3",
   "version": "3.9.15"
  }
 },
 "nbformat": 4,
 "nbformat_minor": 4
}
